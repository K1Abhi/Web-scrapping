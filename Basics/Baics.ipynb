{
 "cells": [
  {
   "cell_type": "markdown",
   "metadata": {},
   "source": [
    "## MENTAL MODEL OF WEB - SCRAPPING\n",
    "***\n",
    "\n",
    "Typical flow of any web scrapping application (Script)\n",
    "![alt text]( mm.png \"Mental model\")\n",
    "\n",
    "Note: **Playwright** - Headless Browser \n",
    "\n",
    "## HTTP\n",
    "***\n",
    "**HTTP - Hyper Text Transer Protocol**\\\n",
    "A comunication protocol that allows exhange of information between a client and a server.\n",
    "\n",
    "HyperText : Text with links \n",
    "\n",
    "### Properties of HTTP \n",
    "\n",
    "**1. Request & Response**\\\n",
    "![alt text]( prop1.png \"Property 1\")\\\n",
    "Client initiates a request and a server responds to it.\\\n",
    "\\\n",
    "**2. Human Readable**\n",
    "- HTTP is text-based.\n",
    "- Easy to troubleshoot.\n",
    "\n",
    "**3. Naturally extensible**\n",
    "-   New functinality can be added using headers.etc as long as client agrees with the server."
   ]
  },
  {
   "cell_type": "markdown",
   "metadata": {},
   "source": [
    "Note: \n",
    "- Let say we send a GET request \"www.google.com\" the server will respond back with some text which will be rendered in our browser that's the google homepage.\n",
    "- What the client sends is called request and what server sends back is called response each request-response cycle is stateless meaning a given request in HTTP by default independent of any other request. "
   ]
  },
  {
   "cell_type": "markdown",
   "metadata": {},
   "source": [
    "### STATE\n",
    "***\n",
    "    State\n",
    "[ The condition of a system at a given time = History + Current input ]\\\n",
    "\n",
    "<p>We know that each HTTP request is stateless but then how does the server remembers the client?\n",
    "(Like items added to a cart and move to other page etc.). Basicaly a websites remembers us when we browse from one page to another. How is this possible?</p>\n",
    "\n",
    "When we browse from one page to the next we are not actually browsing from one resource to next without any context, in context of client server relation state is/or could be the information stored on the server which is associated with a given client, and this state is what allows a server to remember the client i.e browser cookie (geneated by the server and stored on client browser/user agent). \n",
    "\n",
    "\n",
    "![alt text]( cookie.png \"Mental model\")\n",
    "\n",
    "- User logs in with his username and password.\n",
    "- Server then authenticats the user, generates a cookie and pass it back (has expiry date). This cookie uniquely identifies the client.\n",
    "- Let's say **Request#2** is what only authenticated users can make then clients needs to pass that cookie to make that request.\n",
    "  "
   ]
  },
  {
   "cell_type": "markdown",
   "metadata": {},
   "source": [
    "### USER-AGENT\n",
    "***\n",
    "Software used to access a web resource on behalf of user (that why called agent) \n",
    "- Web browser \n",
    "- Crawler \n",
    "- Bot\n",
    "- Python script (frame-work) etc. "
   ]
  },
  {
   "cell_type": "markdown",
   "metadata": {},
   "source": [
    "### HTTP Verbs\n",
    "*** \n",
    "Type of action the client wants to perform ( Total 39 Verbs)\n",
    "- GET\n",
    "    - Used to retrive a resource from the web. (Webpages, images, etc.) \n",
    "- POST\n",
    "    - Create a new resource on the server. (Creating new account)\n",
    "- PUT\n",
    "    - Update resources in server (Example: User updating profile)\n",
    "- PATCH\n",
    "    - Update resource (but typically only partially)\n",
    "- DELETE\n",
    "    - Delete a resource on the server."
   ]
  },
  {
   "cell_type": "markdown",
   "metadata": {},
   "source": []
  }
 ],
 "metadata": {
  "language_info": {
   "name": "python"
  }
 },
 "nbformat": 4,
 "nbformat_minor": 2
}
