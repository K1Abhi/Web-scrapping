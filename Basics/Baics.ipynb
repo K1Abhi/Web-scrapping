{
 "cells": [
  {
   "cell_type": "markdown",
   "metadata": {},
   "source": [
    "## MENTAL MODEL OF WEB - SCRAPPING\n",
    "***\n",
    "\n",
    "Typical flow of any web scrapping application (Script)\n",
    "![alt text]( mm.png \"Mental model\")\n",
    "\n",
    "Note: **Playwright** - Headless Browser \n",
    "\n",
    "## HTTP\n",
    "***\n",
    "**HTTP - Hyper Text Transer Protocol**\\\n",
    "A comunication protocol that allows exhange of information between a client and a server.\n",
    "\n",
    "HyperText : Text with links \n",
    "\n",
    "### Properties of HTTP \n",
    "\n",
    "**1. Request & Response**\n",
    "![alt text]( prop1.png \"Property 1\")\\\n",
    "Client initiates a request and a server responds to it.\\\n",
    "\\\n",
    "**2. Human Readable**\n",
    "- HTTP is text-based.\n",
    "- Easy to troubleshoot.\n",
    "\n",
    "**3. Naturally extensible**\n",
    "-   New functinality can be added using headers.etc as long as client agrees with the server."
   ]
  },
  {
   "cell_type": "markdown",
   "metadata": {},
   "source": [
    "( Concept: Let )"
   ]
  },
  {
   "cell_type": "markdown",
   "metadata": {},
   "source": []
  }
 ],
 "metadata": {
  "language_info": {
   "name": "python"
  }
 },
 "nbformat": 4,
 "nbformat_minor": 2
}
