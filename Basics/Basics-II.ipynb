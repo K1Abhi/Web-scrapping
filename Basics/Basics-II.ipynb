{
 "cells": [
  {
   "cell_type": "markdown",
   "metadata": {},
   "source": [
    "## Challenge \n"
   ]
  },
  {
   "cell_type": "markdown",
   "metadata": {},
   "source": [
    "Extract the following elemetnts from the 1st page of books.toscrape.com:\n",
    "\n",
    "* full book title \n",
    "* Price as float \n",
    "* Rating as int \n",
    "\n",
    "Data should be stored as python list of dictionaries, where each book is dictionary \n",
    "\n",
    "Example:\n",
    "\n",
    "{\\\n",
    "    'title': 'XYZ',\\\n",
    "    'Price': 37.59,\\\n",
    "    'rating': 1\\\n",
    "}"
   ]
  },
  {
   "cell_type": "code",
   "execution_count": 15,
   "metadata": {},
   "outputs": [
    {
     "data": {
      "text/plain": [
       "[{'title': 'A Light in the Attic', 'Price': 51.77, 'Rating': 3},\n",
       " {'title': 'Tipping the Velvet', 'Price': 53.74, 'Rating': 1},\n",
       " {'title': 'Soumission', 'Price': 50.1, 'Rating': 1},\n",
       " {'title': 'Sharp Objects', 'Price': 47.82, 'Rating': 4},\n",
       " {'title': 'Sapiens: A Brief History of Humankind',\n",
       "  'Price': 54.23,\n",
       "  'Rating': 5},\n",
       " {'title': 'The Requiem Red', 'Price': 22.65, 'Rating': 1},\n",
       " {'title': 'The Dirty Little Secrets of Getting Your Dream Job',\n",
       "  'Price': 33.34,\n",
       "  'Rating': 4},\n",
       " {'title': 'The Coming Woman: A Novel Based on the Life of the Infamous Feminist, Victoria Woodhull',\n",
       "  'Price': 17.93,\n",
       "  'Rating': 3},\n",
       " {'title': 'The Boys in the Boat: Nine Americans and Their Epic Quest for Gold at the 1936 Berlin Olympics',\n",
       "  'Price': 22.6,\n",
       "  'Rating': 4},\n",
       " {'title': 'The Black Maria', 'Price': 52.15, 'Rating': 1},\n",
       " {'title': 'Starving Hearts (Triangular Trade Trilogy, #1)',\n",
       "  'Price': 13.99,\n",
       "  'Rating': 2},\n",
       " {'title': \"Shakespeare's Sonnets\", 'Price': 20.66, 'Rating': 4},\n",
       " {'title': 'Set Me Free', 'Price': 17.46, 'Rating': 5},\n",
       " {'title': \"Scott Pilgrim's Precious Little Life (Scott Pilgrim #1)\",\n",
       "  'Price': 52.29,\n",
       "  'Rating': 5},\n",
       " {'title': 'Rip it Up and Start Again', 'Price': 35.02, 'Rating': 5},\n",
       " {'title': 'Our Band Could Be Your Life: Scenes from the American Indie Underground, 1981-1991',\n",
       "  'Price': 57.25,\n",
       "  'Rating': 3},\n",
       " {'title': 'Olio', 'Price': 23.88, 'Rating': 1},\n",
       " {'title': 'Mesaerion: The Best Science Fiction Stories 1800-1849',\n",
       "  'Price': 37.59,\n",
       "  'Rating': 1},\n",
       " {'title': 'Libertarianism for Beginners', 'Price': 51.33, 'Rating': 2},\n",
       " {'title': \"It's Only the Himalayas\", 'Price': 45.17, 'Rating': 2}]"
      ]
     },
     "execution_count": 15,
     "metadata": {},
     "output_type": "execute_result"
    }
   ],
   "source": [
    "import requests as r\n",
    "import re\n",
    "from bs4 import BeautifulSoup\n",
    "\n",
    "resp = r.get('https://books.toscrape.com/')\n",
    "\n",
    "soup = BeautifulSoup(resp.content)\n",
    "\n",
    "book_tag = soup.find_all(\"article\", attrs= {\"class\":\"product_pod\"})\n",
    "\n",
    "def map_rating(rating):\n",
    "    \n",
    "    rating_map = {\n",
    "        \"One\":1,\n",
    "        \"Two\":2,\n",
    "        \"Three\":3,\n",
    "        \"Four\":4,\n",
    "        \"Five\":5\n",
    "    }\n",
    "    return rating_map[rating]\n",
    "\n",
    "\n",
    "def extract_book_data(book_tag):\n",
    "    title = book_tag.find(\"h3\").find(\"a\")[\"title\"]\n",
    "    price = book_tag.find(\"p\", attrs = {\"class\": \"price_color\"}).get_text()\n",
    "    rating = book_tag.find(\"p\", attrs = {\"class\": \"star-rating\"})[\"class\"][-1]\n",
    "\n",
    "    return {\n",
    "\n",
    "        'title': title, \n",
    "        'Price': clean_price(price),\n",
    "        'Rating': map_rating(rating)\n",
    "    }\n",
    "\n",
    "#Extra cleaning up the price \n",
    "def clean_price(price):\n",
    "    return float(\"\".join([char for char in price if char.isdigit() or char ==\".\"]))\n",
    "\n",
    "#using Regex\n",
    "# def clean_price(price):\n",
    "#     return re.sub(\"[^0-9.]\",\"\",price)\n",
    "\n",
    "\n",
    "book_data = [extract_book_data(book_tag) for book_tag in book_tag]\n",
    "\n",
    "book_data"
   ]
  },
  {
   "cell_type": "code",
   "execution_count": null,
   "metadata": {},
   "outputs": [],
   "source": []
  }
 ],
 "metadata": {
  "kernelspec": {
   "display_name": "Python 3",
   "language": "python",
   "name": "python3"
  },
  "language_info": {
   "codemirror_mode": {
    "name": "ipython",
    "version": 3
   },
   "file_extension": ".py",
   "mimetype": "text/x-python",
   "name": "python",
   "nbconvert_exporter": "python",
   "pygments_lexer": "ipython3",
   "version": "3.11.4"
  }
 },
 "nbformat": 4,
 "nbformat_minor": 2
}
